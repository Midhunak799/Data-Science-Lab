{
 "cells": [
  {
   "cell_type": "code",
   "execution_count": 1,
   "metadata": {},
   "outputs": [
    {
     "name": "stdout",
     "output_type": "stream",
     "text": [
      "decomposed arrays:\n",
      "\n",
      "[[-0.6248785  -0.07107342 -0.77748018]\n",
      " [-0.29405228 -0.90108687  0.31870945]\n",
      " [-0.72322895  0.4277745   0.54217051]]\n",
      "\n",
      "\n",
      " [ 15.15586921   7.69969063   0.11997035]\n",
      "\n",
      "\n",
      " [[-0.36785493 -0.54018645 -0.75688926]\n",
      " [-0.91759714  0.34274811  0.20134352]\n",
      " [-0.15065932 -0.76858463  0.62175512]]\n",
      "Reconstructed array:\n",
      "\n",
      "\n",
      "\n",
      " [[4 4 6]\n",
      " [8 0 1]\n",
      " [0 6 9]]\n"
     ]
    }
   ],
   "source": [
    "#svd\n",
    "import numpy as np\n",
    "from scipy.linalg import svd\n",
    "\n",
    "arr1=np.array((4,5,7,8,0,2,1,7,9)).reshape(3,3)\n",
    "a,b,c=svd(arr1)\n",
    "print(\"decomposed arrays:\\n\")\n",
    "print(a)\n",
    "print(\"\\n\\n\",b)\n",
    "print(\"\\n\\n\",c)\n",
    "\n",
    "print(\"Reconstructed array:\\n\")\n",
    "\n",
    "e=(a @ np.diag(b) @ c)\n",
    "new_arr=e.astype('i')\n",
    "print(\"\\n\\n\",new_arr)\n"
   ]
  },
  {
   "cell_type": "code",
   "execution_count": null,
   "metadata": {
    "collapsed": true
   },
   "outputs": [],
   "source": []
  }
 ],
 "metadata": {
  "kernelspec": {
   "display_name": "Python 3",
   "language": "python",
   "name": "python3"
  },
  "language_info": {
   "codemirror_mode": {
    "name": "ipython",
    "version": 3
   },
   "file_extension": ".py",
   "mimetype": "text/x-python",
   "name": "python",
   "nbconvert_exporter": "python",
   "pygments_lexer": "ipython3",
   "version": "3.6.3"
  }
 },
 "nbformat": 4,
 "nbformat_minor": 2
}
