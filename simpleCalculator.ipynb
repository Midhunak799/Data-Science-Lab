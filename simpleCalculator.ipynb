{
 "cells": [
  {
   "cell_type": "code",
   "execution_count": null,
   "metadata": {},
   "outputs": [
    {
     "name": "stdout",
     "output_type": "stream",
     "text": [
      "Enter a number5\n",
      "Enter a number0\n",
      "`````````````````````````\n",
      "1.add\n",
      "2.substract\n",
      "3.multiplication\n",
      "4.division\n",
      "enter your choice:4\n",
      "Result is\n",
      "division by zero is not possible\n",
      "1.add\n",
      "2.substract\n",
      "3.multiplication\n",
      "4.division\n"
     ]
    }
   ],
   "source": [
    "\n",
    "\n",
    "def add(num1,num2):\n",
    "    return num1+num2\n",
    "def substract(num1,num2):\n",
    "    return num1-num2\n",
    "def multiplication(num1,num2):\n",
    "    return num1*num2\n",
    "def division(num1,num2):\n",
    "    if num2==0:\n",
    "        return 'division by zero is not possible'\n",
    "    else:\n",
    "        return num1/num2\n",
    "n1=int(input('Enter a number'))\n",
    "n2=int(input('Enter a number'))\n",
    "print('`````````````````````````')\n",
    "while True:\n",
    "\n",
    "   \n",
    "\n",
    "    print('1.add\\n2.substract\\n3.multiplication\\n4.division')\n",
    "    opt=int(input('enter your choice:'))\n",
    "    if opt==1:\n",
    "        print('Result is\\n'+str(add(n1,n2)))\n",
    "    elif opt==2:\n",
    "        print('Result is\\n'+str(substract(n1,n2)))\n",
    "    elif opt==3:\n",
    "        print('Result is\\n'+str(multiplication(n1,n2)))\n",
    "    elif opt==4:\n",
    "        print('Result is\\n'+str(division(n1,n2)))\n",
    "    else:\n",
    "        print('invalid choice')\n",
    "        break\n"
   ]
  },
  {
   "cell_type": "code",
   "execution_count": null,
   "metadata": {
    "collapsed": true
   },
   "outputs": [],
   "source": []
  },
  {
   "cell_type": "code",
   "execution_count": null,
   "metadata": {
    "collapsed": true
   },
   "outputs": [],
   "source": []
  }
 ],
 "metadata": {
  "kernelspec": {
   "display_name": "Python 3",
   "language": "python",
   "name": "python3"
  },
  "language_info": {
   "codemirror_mode": {
    "name": "ipython",
    "version": 3
   },
   "file_extension": ".py",
   "mimetype": "text/x-python",
   "name": "python",
   "nbconvert_exporter": "python",
   "pygments_lexer": "ipython3",
   "version": "3.6.3"
  }
 },
 "nbformat": 4,
 "nbformat_minor": 2
}
