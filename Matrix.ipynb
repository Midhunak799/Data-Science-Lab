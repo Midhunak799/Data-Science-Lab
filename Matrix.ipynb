{
 "cells": [
  {
   "cell_type": "code",
   "execution_count": 1,
   "metadata": {},
   "outputs": [
    {
     "name": "stdout",
     "output_type": "stream",
     "text": [
      "matrix 1: \n",
      " [[4 5 7]\n",
      " [8 0 2]\n",
      " [1 7 9]] \n",
      "\n",
      "matrix 2: \n",
      " [[2 4 5]\n",
      " [8 0 2]\n",
      " [4 7 9]] \n",
      "\n",
      "Dot Product:\n",
      "\n",
      " [[ 76  65  93]\n",
      " [ 24  46  58]\n",
      " [ 94  67 100]]\n",
      "\n",
      "\n",
      "Transpose :\n",
      "\n",
      " [[ 76  24  94]\n",
      " [ 65  46  67]\n",
      " [ 93  58 100]]\n"
     ]
    }
   ],
   "source": [
    "#matrix multiplication\n",
    "import numpy as np\n",
    "arr1=np.array((4,5,7,8,0,2,1,7,9)).reshape(3,3)\n",
    "print(\"matrix 1: \\n\",arr1,\"\\n\")\n",
    "arr2=np.array((2,4,5,8,0,2,4,7,9)).reshape(3,3)\n",
    "print(\"matrix 2: \\n\",arr2,\"\\n\")\n",
    "\n",
    "mul=np.dot(arr1,arr2)\n",
    "print(\"Dot Product:\\n\\n\",mul)\n",
    "\n",
    "\n",
    "transpose=mul.transpose()\n",
    "print(\"\\n\\nTranspose :\\n\\n\",transpose)\n"
   ]
  },
  {
   "cell_type": "code",
   "execution_count": null,
   "metadata": {
    "collapsed": true
   },
   "outputs": [],
   "source": []
  }
 ],
 "metadata": {
  "kernelspec": {
   "display_name": "Python 3",
   "language": "python",
   "name": "python3"
  },
  "language_info": {
   "codemirror_mode": {
    "name": "ipython",
    "version": 3
   },
   "file_extension": ".py",
   "mimetype": "text/x-python",
   "name": "python",
   "nbconvert_exporter": "python",
   "pygments_lexer": "ipython3",
   "version": "3.6.3"
  }
 },
 "nbformat": 4,
 "nbformat_minor": 2
}
